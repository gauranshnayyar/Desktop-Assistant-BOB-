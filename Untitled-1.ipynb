{
 "cells": [
  {
   "cell_type": "code",
   "execution_count": 59,
   "metadata": {},
   "outputs": [],
   "source": [
    "import pyttsx3\n",
    "\n",
    "engine = pyttsx3.init('sapi5')\n",
    "\n",
    "voices= engine.getProperty('voices') #getting details of current voice\n",
    "\n",
    "engine.setProperty('voice', voices[0].id)"
   ]
  },
  {
   "cell_type": "code",
   "execution_count": 226,
   "metadata": {},
   "outputs": [],
   "source": [
    "def speak(audio):\n",
    "    engine.say(audio)\n",
    "    engine.runAndWait()\n",
    "\n",
    "from datetime import date, datetime\n",
    "from weatherbit.api import Api\n",
    "api_key = \"5a9939897fed437e82042a2170dc3f37\"\n",
    "api = Api(api_key)\n",
    "api.set_granularity('daily')\n",
    "forecast = api.get_forecast(city=\"Moncton\", state=\"New Brunswick\", country=\"CA\")\n",
    "temprature = forecast.get_series(['temp','precip'])\n",
    "l = [[x for x in temp.items()] for temp in temprature] \n",
    "pal = l[0][0]\n",
    "t_temp = pal[1]\n",
    "bro = l[1][0]\n",
    "tom_temp = bro[1]\n",
    "def wish():\n",
    "    today = date.today()\n",
    "    clock = datetime.now()\n",
    "    currnt_hr = clock.hour\n",
    "    if currnt_hr < 12:\n",
    "        speak('Good morning Master Todays date is')\n",
    "        speak(today)\n",
    "        speak('and the average temprature of today is')\n",
    "        speak(t_temp)\n",
    "        speak('Celsius')\n",
    "        speak('And Master Tomorrows average temprature will be')\n",
    "        speak(tom_temp)\n",
    "        speak('Celsius')\n",
    "    elif currnt_hr > 12 and currnt_hr <= 18:\n",
    "        speak('Good AfterNoon Master Todays date is')\n",
    "        speak(today)\n",
    "        speak('and the average temprature of today is')\n",
    "        speak(t_temp)\n",
    "        speak('Celsius')\n",
    "        speak('And Master Tomorrows average temprature will be')\n",
    "        speak(tom_temp)\n",
    "        speak('Celsius')\n",
    "    else:\n",
    "        speak('Good Night Master Todays date is')\n",
    "        speak(today)\n",
    "        speak('and the average temprature of today is')\n",
    "        speak(t_temp)\n",
    "        speak('Celsius')\n",
    "        speak('And Master Tomorrows average temprature will be')\n",
    "        speak(tom_temp)\n",
    "        speak('Celsius')\n",
    "wish()"
   ]
  },
  {
   "cell_type": "code",
   "execution_count": 3,
   "metadata": {},
   "outputs": [
    {
     "name": "stdout",
     "output_type": "stream",
     "text": [
      "Recognising...\n"
     ]
    },
    {
     "data": {
      "text/plain": [
       "'hello'"
      ]
     },
     "execution_count": 3,
     "metadata": {},
     "output_type": "execute_result"
    }
   ],
   "source": [
    "def takeCommand():\n",
    "    import speech_recognition as sr\n",
    "    r = sr.Recognizer()\n",
    "    mic = sr.Microphone()\n",
    "    '''for index, name in enumerate(sr.Microphone.list_microphone_names()):\n",
    "        print(\"Microphone with name \\\"{1}\\\" found for `Microphone(device_index={0})`\".format(index, name))'''\n",
    "    mic = sr.Microphone(device_index=0)\n",
    "    with mic as source:\n",
    "        audio = r.listen(source)\n",
    "    print('Recognising...')\n",
    "    quary = r.recognize_google(audio,language = 'en-in')\n",
    "    return quary\n",
    "takeCommand()"
   ]
  },
  {
   "cell_type": "code",
   "execution_count": 169,
   "metadata": {},
   "outputs": [
    {
     "name": "stdout",
     "output_type": "stream",
     "text": [
      "Recognising...\n",
      "Pikachu is a fictional species in the Pokémon media franchise. Designed by Atsuko Nishida and Ken Sugimori, Pikachu first appeared in the 1996 Japanese video games Pokémon Red and Green created by Game Freak and Nintendo, which were released outside of Japan in 1998 as Pokémon Red and Blue.\n"
     ]
    }
   ],
   "source": [
    "#query = takeCommand()\n",
    "def wiki():\n",
    "    import wikipedia\n",
    "    query = takeCommand()\n",
    "    if 'Wikipedia' in query:\n",
    "        speak('Searching Wikipedia...')\n",
    "        query = query.replace(\"wikipedia\", \"\")\n",
    "        results = wikipedia.summary(query, sentences=2)\n",
    "        speak(\"According to Wikipedia\")\n",
    "        print(results)\n",
    "        speak(results)\n",
    "wiki()"
   ]
  },
  {
   "cell_type": "code",
   "execution_count": 170,
   "metadata": {},
   "outputs": [
    {
     "name": "stdout",
     "output_type": "stream",
     "text": [
      "Recognising...\n",
      "Pikachu is a fictional species in the Pokémon media franchise. Designed by Atsuko Nishida and Ken Sugimori, Pikachu first appeared in the 1996 Japanese video games Pokémon Red and Green created by Game Freak and Nintendo, which were released outside of Japan in 1998 as Pokémon Red and Blue.\n",
      "Recognising...\n"
     ]
    },
    {
     "ename": "UnknownValueError",
     "evalue": "",
     "output_type": "error",
     "traceback": [
      "\u001b[1;31m---------------------------------------------------------------------------\u001b[0m",
      "\u001b[1;31mUnknownValueError\u001b[0m                         Traceback (most recent call last)",
      "\u001b[1;32m<ipython-input-170-5ad04feb5e85>\u001b[0m in \u001b[0;36m<module>\u001b[1;34m\u001b[0m\n\u001b[0;32m      4\u001b[0m     \u001b[1;32mwhile\u001b[0m \u001b[1;32mTrue\u001b[0m\u001b[1;33m:\u001b[0m\u001b[1;33m\u001b[0m\u001b[1;33m\u001b[0m\u001b[0m\n\u001b[0;32m      5\u001b[0m     \u001b[1;31m# if 1:\u001b[0m\u001b[1;33m\u001b[0m\u001b[1;33m\u001b[0m\u001b[0m\n\u001b[1;32m----> 6\u001b[1;33m         \u001b[0mquery\u001b[0m \u001b[1;33m=\u001b[0m \u001b[0mtakeCommand\u001b[0m\u001b[1;33m(\u001b[0m\u001b[1;33m)\u001b[0m\u001b[1;33m.\u001b[0m\u001b[0mlower\u001b[0m\u001b[1;33m(\u001b[0m\u001b[1;33m)\u001b[0m \u001b[1;31m#Converting user query into lower case\u001b[0m\u001b[1;33m\u001b[0m\u001b[1;33m\u001b[0m\u001b[0m\n\u001b[0m\u001b[0;32m      7\u001b[0m \u001b[1;33m\u001b[0m\u001b[0m\n\u001b[0;32m      8\u001b[0m         \u001b[1;31m# Logic for executing tasks based on query\u001b[0m\u001b[1;33m\u001b[0m\u001b[1;33m\u001b[0m\u001b[0m\n",
      "\u001b[1;32m<ipython-input-3-b71438e69e5d>\u001b[0m in \u001b[0;36mtakeCommand\u001b[1;34m()\u001b[0m\n\u001b[0;32m      9\u001b[0m         \u001b[0maudio\u001b[0m \u001b[1;33m=\u001b[0m \u001b[0mr\u001b[0m\u001b[1;33m.\u001b[0m\u001b[0mlisten\u001b[0m\u001b[1;33m(\u001b[0m\u001b[0msource\u001b[0m\u001b[1;33m)\u001b[0m\u001b[1;33m\u001b[0m\u001b[1;33m\u001b[0m\u001b[0m\n\u001b[0;32m     10\u001b[0m     \u001b[0mprint\u001b[0m\u001b[1;33m(\u001b[0m\u001b[1;34m'Recognising...'\u001b[0m\u001b[1;33m)\u001b[0m\u001b[1;33m\u001b[0m\u001b[1;33m\u001b[0m\u001b[0m\n\u001b[1;32m---> 11\u001b[1;33m     \u001b[0mquary\u001b[0m \u001b[1;33m=\u001b[0m \u001b[0mr\u001b[0m\u001b[1;33m.\u001b[0m\u001b[0mrecognize_google\u001b[0m\u001b[1;33m(\u001b[0m\u001b[0maudio\u001b[0m\u001b[1;33m,\u001b[0m\u001b[0mlanguage\u001b[0m \u001b[1;33m=\u001b[0m \u001b[1;34m'en-in'\u001b[0m\u001b[1;33m)\u001b[0m\u001b[1;33m\u001b[0m\u001b[1;33m\u001b[0m\u001b[0m\n\u001b[0m\u001b[0;32m     12\u001b[0m     \u001b[1;32mreturn\u001b[0m \u001b[0mquary\u001b[0m\u001b[1;33m\u001b[0m\u001b[1;33m\u001b[0m\u001b[0m\n\u001b[0;32m     13\u001b[0m \u001b[0mtakeCommand\u001b[0m\u001b[1;33m(\u001b[0m\u001b[1;33m)\u001b[0m\u001b[1;33m\u001b[0m\u001b[1;33m\u001b[0m\u001b[0m\n",
      "\u001b[1;32m~\\AppData\\Local\\Packages\\PythonSoftwareFoundation.Python.3.9_qbz5n2kfra8p0\\LocalCache\\local-packages\\Python39\\site-packages\\speech_recognition\\__init__.py\u001b[0m in \u001b[0;36mrecognize_google\u001b[1;34m(self, audio_data, key, language, show_all)\u001b[0m\n\u001b[0;32m    856\u001b[0m         \u001b[1;31m# return results\u001b[0m\u001b[1;33m\u001b[0m\u001b[1;33m\u001b[0m\u001b[0m\n\u001b[0;32m    857\u001b[0m         \u001b[1;32mif\u001b[0m \u001b[0mshow_all\u001b[0m\u001b[1;33m:\u001b[0m \u001b[1;32mreturn\u001b[0m \u001b[0mactual_result\u001b[0m\u001b[1;33m\u001b[0m\u001b[1;33m\u001b[0m\u001b[0m\n\u001b[1;32m--> 858\u001b[1;33m         \u001b[1;32mif\u001b[0m \u001b[1;32mnot\u001b[0m \u001b[0misinstance\u001b[0m\u001b[1;33m(\u001b[0m\u001b[0mactual_result\u001b[0m\u001b[1;33m,\u001b[0m \u001b[0mdict\u001b[0m\u001b[1;33m)\u001b[0m \u001b[1;32mor\u001b[0m \u001b[0mlen\u001b[0m\u001b[1;33m(\u001b[0m\u001b[0mactual_result\u001b[0m\u001b[1;33m.\u001b[0m\u001b[0mget\u001b[0m\u001b[1;33m(\u001b[0m\u001b[1;34m\"alternative\"\u001b[0m\u001b[1;33m,\u001b[0m \u001b[1;33m[\u001b[0m\u001b[1;33m]\u001b[0m\u001b[1;33m)\u001b[0m\u001b[1;33m)\u001b[0m \u001b[1;33m==\u001b[0m \u001b[1;36m0\u001b[0m\u001b[1;33m:\u001b[0m \u001b[1;32mraise\u001b[0m \u001b[0mUnknownValueError\u001b[0m\u001b[1;33m(\u001b[0m\u001b[1;33m)\u001b[0m\u001b[1;33m\u001b[0m\u001b[1;33m\u001b[0m\u001b[0m\n\u001b[0m\u001b[0;32m    859\u001b[0m \u001b[1;33m\u001b[0m\u001b[0m\n\u001b[0;32m    860\u001b[0m         \u001b[1;32mif\u001b[0m \u001b[1;34m\"confidence\"\u001b[0m \u001b[1;32min\u001b[0m \u001b[0mactual_result\u001b[0m\u001b[1;33m[\u001b[0m\u001b[1;34m\"alternative\"\u001b[0m\u001b[1;33m]\u001b[0m\u001b[1;33m:\u001b[0m\u001b[1;33m\u001b[0m\u001b[1;33m\u001b[0m\u001b[0m\n",
      "\u001b[1;31mUnknownValueError\u001b[0m: "
     ]
    }
   ],
   "source": [
    "import wikipedia\n",
    "if __name__ == \"__main__\":\n",
    "    #wishMe()\n",
    "    while True:\n",
    "    # if 1:\n",
    "        query = takeCommand().lower() #Converting user query into lower case\n",
    "\n",
    "        # Logic for executing tasks based on query\n",
    "        if 'wikipedia' in query:  #if wikipedia found in the query then this block will be executed\n",
    "            speak('Searching Wikipedia...')\n",
    "            query = query.replace(\"wikipedia\", \"\")\n",
    "            results = wikipedia.summary(query, sentences=2) \n",
    "            speak(\"According to Wikipedia\")\n",
    "            print(results)\n",
    "            speak(results)"
   ]
  },
  {
   "cell_type": "code",
   "execution_count": 173,
   "metadata": {},
   "outputs": [
    {
     "name": "stdout",
     "output_type": "stream",
     "text": [
      "Recognising...\n",
      "open youtube\n",
      "Recognising...\n",
      "yes\n",
      "Recognising...\n"
     ]
    }
   ],
   "source": [
    "import webbrowser \n",
    "query = takeCommand().lower()\n",
    "print(query)\n",
    "if 'open youtube' in query:\n",
    "    speak('Master, do you want to search something perticular on Youtube')\n",
    "    #webbrowser.open(\"youtube.com\")\n",
    "    kit = takeCommand().lower()\n",
    "    print(kit)\n",
    "    if 'yes' in kit:\n",
    "        #url2 = \"youtube.com\"\n",
    "        speak('What would like to search master')\n",
    "        kat = takeCommand().lower()\n",
    "        if 'play' in kat:\n",
    "            web = r\"C:\\Program Files (x86)\\Google\\Chrome\\Application\\chrome.exe\"\n",
    "            webbrowser.register(\"chrome\", None, webbrowser.BackgroundBrowser(web))\n",
    "            webbrowser.get(\"chrome\").open_new('https://www.youtube.com/watch?v=dx4Teh-nv3A')\n",
    "        else:\n",
    "\n",
    "       # speak('What would like to search master')\n",
    "       # kat = takeCommand().lower()\n",
    "            web = r\"C:\\Program Files (x86)\\Google\\Chrome\\Application\\chrome.exe\"\n",
    "            webbrowser.register(\"chrome\", None, webbrowser.BackgroundBrowser(web))\n",
    "            webbrowser.get(\"chrome\").open_new('https://www.youtube.com/results?search_query=' + kat)\n",
    "        #webbrowser.get(\"chrome\").open_new('https://www.youtube.com/watch?v=dx4Teh-nv3A')'''\n",
    "    elif 'no' in kit:\n",
    "        speak('Opening Youtube')\n",
    "        #webbrowser.get()\n",
    "        url1 = \"youtube.com\"\n",
    "        web = r\"C:\\Program Files (x86)\\Google\\Chrome\\Application\\chrome.exe\"\n",
    "        webbrowser.register(\"chrome\", None, webbrowser.BackgroundBrowser(web))\n",
    "        webbrowser.get(\"chrome\").open_new(url1)\n",
    "        #webbrowser.open_new_tab(url1)\n",
    "elif 'open google' in query:\n",
    "    speak('Master, do you want to search something perticular on Google')\n",
    "    #webbrowser.open(\"youtube.com\")\n",
    "    kot = takeCommand().lower()\n",
    "    print(kot)\n",
    "    if 'yes' in kot:\n",
    "        #url2 = \"youtube.com\"\n",
    "        speak('What would like to search master')\n",
    "        kqt = takeCommand().lower()\n",
    "        web = r\"C:\\Program Files (x86)\\Google\\Chrome\\Application\\chrome.exe\"\n",
    "        webbrowser.register(\"chrome\", None, webbrowser.BackgroundBrowser(web))\n",
    "        webbrowser.get(\"chrome\").open_new('https://www.google.ca/search?q=' + kqt)\n",
    "        #webbrowser.get(\"chrome\").open_new('https://www.youtube.com/watch?v=dx4Teh-nv3A')'''\n",
    "    elif 'no' in kot:\n",
    "        speak('Opening Google')\n",
    "        #webbrowser.get()\n",
    "        url2 = \"google.com\"\n",
    "        web = r\"C:\\Program Files (x86)\\Google\\Chrome\\Application\\chrome.exe\"\n",
    "        webbrowser.register(\"chrome\", None, webbrowser.BackgroundBrowser(web))\n",
    "        webbrowser.get(\"chrome\").open_new(url2)\n",
    "        #webbrowser.open_new_tab(url1)"
   ]
  },
  {
   "cell_type": "code",
   "execution_count": 213,
   "metadata": {},
   "outputs": [
    {
     "name": "stdout",
     "output_type": "stream",
     "text": [
      "Recognising...\n",
      "['Qaafirana - Arijit Singh And Nikhita Gandhi(sumirbd.mobi).mp3', 'Namo Namo - Amit Trivedi(sumirbd.mobi).mp3', 'Sweetheart - Dev Negi(sumirbd.mobi).mp3']\n"
     ]
    }
   ],
   "source": [
    "query = takeCommand().lower()\n",
    "import random\n",
    "if 'play music' in query:\n",
    "    music_dir = 'C:\\Music_Gauransh'\n",
    "    songs = os.listdir(music_dir)\n",
    "    random.shuffle(songs)\n",
    "    speak('Playing Music')\n",
    "    print(songs)    \n",
    "    os.startfile(os.path.join(music_dir, songs[0]))"
   ]
  },
  {
   "cell_type": "code",
   "execution_count": 238,
   "metadata": {},
   "outputs": [
    {
     "name": "stdout",
     "output_type": "stream",
     "text": [
      "Recognising...\n"
     ]
    }
   ],
   "source": [
    "import datetime\n",
    "query = takeCommand().lower()\n",
    "if 'the time' in query:\n",
    "    strTime = datetime.datetime.now().strftime(\"%H:%M:%S\")    \n",
    "    speak(\"Master, the time is {}\".format(strTime))"
   ]
  },
  {
   "cell_type": "code",
   "execution_count": 256,
   "metadata": {},
   "outputs": [
    {
     "name": "stdout",
     "output_type": "stream",
     "text": [
      "Recognising...\n",
      "search pikachu on wikipedia\n",
      "Pokémon is a media franchise created by video game designer Satoshi Tajiri that centers on fictional creatures called Pokémon. As of 2020, there have been 23 animated films and one live action film.\n",
      "Recognising...\n",
      "google\n",
      "Recognising...\n",
      "search youtube\n",
      "Recognising...\n",
      "open youtube\n",
      "Recognising...\n",
      "yes\n",
      "Recognising...\n",
      "Recognising...\n"
     ]
    },
    {
     "ename": "UnknownValueError",
     "evalue": "",
     "output_type": "error",
     "traceback": [
      "\u001b[1;31m---------------------------------------------------------------------------\u001b[0m",
      "\u001b[1;31mUnknownValueError\u001b[0m                         Traceback (most recent call last)",
      "\u001b[1;32m<ipython-input-256-1a0b40ba6ea4>\u001b[0m in \u001b[0;36m<module>\u001b[1;34m\u001b[0m\n\u001b[0;32m     82\u001b[0m     \u001b[1;32mwhile\u001b[0m \u001b[1;32mTrue\u001b[0m\u001b[1;33m:\u001b[0m\u001b[1;33m\u001b[0m\u001b[1;33m\u001b[0m\u001b[0m\n\u001b[0;32m     83\u001b[0m         \u001b[0mspeak\u001b[0m\u001b[1;33m(\u001b[0m\u001b[1;34m'how can I help you Master'\u001b[0m\u001b[1;33m)\u001b[0m\u001b[1;33m\u001b[0m\u001b[1;33m\u001b[0m\u001b[0m\n\u001b[1;32m---> 84\u001b[1;33m         \u001b[0mquery\u001b[0m \u001b[1;33m=\u001b[0m \u001b[0mtakeCommand\u001b[0m\u001b[1;33m(\u001b[0m\u001b[1;33m)\u001b[0m\u001b[1;33m.\u001b[0m\u001b[0mlower\u001b[0m\u001b[1;33m(\u001b[0m\u001b[1;33m)\u001b[0m \u001b[1;31m#Converting user query into lower case\u001b[0m\u001b[1;33m\u001b[0m\u001b[1;33m\u001b[0m\u001b[0m\n\u001b[0m\u001b[0;32m     85\u001b[0m         \u001b[0mprint\u001b[0m\u001b[1;33m(\u001b[0m\u001b[0mquery\u001b[0m\u001b[1;33m)\u001b[0m\u001b[1;33m\u001b[0m\u001b[1;33m\u001b[0m\u001b[0m\n\u001b[0;32m     86\u001b[0m         \u001b[1;31m# Wikipedia\u001b[0m\u001b[1;33m\u001b[0m\u001b[1;33m\u001b[0m\u001b[0m\n",
      "\u001b[1;32m<ipython-input-256-1a0b40ba6ea4>\u001b[0m in \u001b[0;36mtakeCommand\u001b[1;34m()\u001b[0m\n\u001b[0;32m     74\u001b[0m         \u001b[0maudio\u001b[0m \u001b[1;33m=\u001b[0m \u001b[0mr\u001b[0m\u001b[1;33m.\u001b[0m\u001b[0mlisten\u001b[0m\u001b[1;33m(\u001b[0m\u001b[0msource\u001b[0m\u001b[1;33m)\u001b[0m\u001b[1;33m\u001b[0m\u001b[1;33m\u001b[0m\u001b[0m\n\u001b[0;32m     75\u001b[0m     \u001b[0mprint\u001b[0m\u001b[1;33m(\u001b[0m\u001b[1;34m'Recognising...'\u001b[0m\u001b[1;33m)\u001b[0m\u001b[1;33m\u001b[0m\u001b[1;33m\u001b[0m\u001b[0m\n\u001b[1;32m---> 76\u001b[1;33m     \u001b[0mquary\u001b[0m \u001b[1;33m=\u001b[0m \u001b[0mr\u001b[0m\u001b[1;33m.\u001b[0m\u001b[0mrecognize_google\u001b[0m\u001b[1;33m(\u001b[0m\u001b[0maudio\u001b[0m\u001b[1;33m,\u001b[0m\u001b[0mlanguage\u001b[0m \u001b[1;33m=\u001b[0m \u001b[1;34m'en-in'\u001b[0m\u001b[1;33m)\u001b[0m\u001b[1;33m\u001b[0m\u001b[1;33m\u001b[0m\u001b[0m\n\u001b[0m\u001b[0;32m     77\u001b[0m     \u001b[1;32mreturn\u001b[0m \u001b[0mquary\u001b[0m\u001b[1;33m\u001b[0m\u001b[1;33m\u001b[0m\u001b[0m\n\u001b[0;32m     78\u001b[0m \u001b[1;33m\u001b[0m\u001b[0m\n",
      "\u001b[1;32m~\\AppData\\Local\\Packages\\PythonSoftwareFoundation.Python.3.9_qbz5n2kfra8p0\\LocalCache\\local-packages\\Python39\\site-packages\\speech_recognition\\__init__.py\u001b[0m in \u001b[0;36mrecognize_google\u001b[1;34m(self, audio_data, key, language, show_all)\u001b[0m\n\u001b[0;32m    856\u001b[0m         \u001b[1;31m# return results\u001b[0m\u001b[1;33m\u001b[0m\u001b[1;33m\u001b[0m\u001b[0m\n\u001b[0;32m    857\u001b[0m         \u001b[1;32mif\u001b[0m \u001b[0mshow_all\u001b[0m\u001b[1;33m:\u001b[0m \u001b[1;32mreturn\u001b[0m \u001b[0mactual_result\u001b[0m\u001b[1;33m\u001b[0m\u001b[1;33m\u001b[0m\u001b[0m\n\u001b[1;32m--> 858\u001b[1;33m         \u001b[1;32mif\u001b[0m \u001b[1;32mnot\u001b[0m \u001b[0misinstance\u001b[0m\u001b[1;33m(\u001b[0m\u001b[0mactual_result\u001b[0m\u001b[1;33m,\u001b[0m \u001b[0mdict\u001b[0m\u001b[1;33m)\u001b[0m \u001b[1;32mor\u001b[0m \u001b[0mlen\u001b[0m\u001b[1;33m(\u001b[0m\u001b[0mactual_result\u001b[0m\u001b[1;33m.\u001b[0m\u001b[0mget\u001b[0m\u001b[1;33m(\u001b[0m\u001b[1;34m\"alternative\"\u001b[0m\u001b[1;33m,\u001b[0m \u001b[1;33m[\u001b[0m\u001b[1;33m]\u001b[0m\u001b[1;33m)\u001b[0m\u001b[1;33m)\u001b[0m \u001b[1;33m==\u001b[0m \u001b[1;36m0\u001b[0m\u001b[1;33m:\u001b[0m \u001b[1;32mraise\u001b[0m \u001b[0mUnknownValueError\u001b[0m\u001b[1;33m(\u001b[0m\u001b[1;33m)\u001b[0m\u001b[1;33m\u001b[0m\u001b[1;33m\u001b[0m\u001b[0m\n\u001b[0m\u001b[0;32m    859\u001b[0m \u001b[1;33m\u001b[0m\u001b[0m\n\u001b[0;32m    860\u001b[0m         \u001b[1;32mif\u001b[0m \u001b[1;34m\"confidence\"\u001b[0m \u001b[1;32min\u001b[0m \u001b[0mactual_result\u001b[0m\u001b[1;33m[\u001b[0m\u001b[1;34m\"alternative\"\u001b[0m\u001b[1;33m]\u001b[0m\u001b[1;33m:\u001b[0m\u001b[1;33m\u001b[0m\u001b[1;33m\u001b[0m\u001b[0m\n",
      "\u001b[1;31mUnknownValueError\u001b[0m: "
     ]
    }
   ],
   "source": [
    "import pyttsx3\n",
    "from datetime import date, datetime\n",
    "from weatherbit.api import Api\n",
    "import speech_recognition as sr\n",
    "import wikipedia\n",
    "import webbrowser \n",
    "import random\n",
    "\n",
    "# Assign the voice to the engine\n",
    "engine = pyttsx3.init('sapi5')\n",
    "voices= engine.getProperty('voices') #getting details of current voice\n",
    "engine.setProperty('voice', voices[0].id)\n",
    "\n",
    "# Creating a speak function\n",
    "def speak(audio):\n",
    "    engine.say(audio)\n",
    "    engine.runAndWait()\n",
    "\n",
    "# Installing an API for weather \n",
    "api_key = \"5a9939897fed437e82042a2170dc3f37\"\n",
    "api = Api(api_key)\n",
    "api.set_granularity('daily')\n",
    "forecast = api.get_forecast(city=\"Moncton\", state=\"New Brunswick\", country=\"CA\")\n",
    "temprature = forecast.get_series(['temp','precip'])\n",
    "l = [[x for x in temp.items()] for temp in temprature] \n",
    "pal = l[0][0]\n",
    "t_temp = pal[1]\n",
    "bro = l[1][0]\n",
    "tom_temp = bro[1]\n",
    "\n",
    "# Creating a wish me function\n",
    "def wish():\n",
    "    today = date.today()\n",
    "    clock = datetime.now()\n",
    "    currnt_hr = clock.hour\n",
    "    if currnt_hr < 12:\n",
    "        speak('Good morning Master Todays date is')\n",
    "        speak(today)\n",
    "        speak('and the average temprature of today is')\n",
    "        speak(t_temp)\n",
    "        speak('Celsius')\n",
    "        speak('And Master Tomorrows average temprature will be')\n",
    "        speak(tom_temp)\n",
    "        speak('Celsius')\n",
    "    elif currnt_hr > 12 and currnt_hr <= 18:\n",
    "        speak('Good AfterNoon Master Todays date is')\n",
    "        speak(today)\n",
    "        speak('and the average temprature of today is')\n",
    "        speak(t_temp)\n",
    "        speak('Celsius')\n",
    "        speak('And Master Tomorrows average temprature will be')\n",
    "        speak(tom_temp)\n",
    "        speak('Celsius')\n",
    "    else:\n",
    "        speak('Good Night Master Todays date is')\n",
    "        speak(today)\n",
    "        speak('and the average temprature of today is')\n",
    "        speak(t_temp)\n",
    "        speak('Celsius')\n",
    "        speak('And Master Tomorrows average temprature will be')\n",
    "        speak(tom_temp)\n",
    "        speak('Celsius')\n",
    "\n",
    "\n",
    "# Creating a function to convert user speach to text\n",
    "def takeCommand():\n",
    "    import speech_recognition as sr\n",
    "    r = sr.Recognizer()\n",
    "    mic = sr.Microphone()\n",
    "    '''for index, name in enumerate(sr.Microphone.list_microphone_names()):\n",
    "        print(\"Microphone with name \\\"{1}\\\" found for `Microphone(device_index={0})`\".format(index, name))'''\n",
    "    mic = sr.Microphone(device_index=0)\n",
    "    with mic as source:\n",
    "        audio = r.listen(source)\n",
    "    print('Recognising...')\n",
    "    quary = r.recognize_google(audio,language = 'en-in')\n",
    "    return quary\n",
    "\n",
    "\n",
    "if __name__ == \"__main__\":\n",
    "    wish()\n",
    "    while True:\n",
    "        speak('how can I help you Master')\n",
    "        query = takeCommand().lower() #Converting user query into lower case\n",
    "        print(query)\n",
    "        # Wikipedia\n",
    "        if 'wikipedia' in query:  #if wikipedia found in the query then this block will be executed\n",
    "            speak('Searching Wikipedia...')\n",
    "            query = query.replace(\"wikipedia\", \"\")\n",
    "            results = wikipedia.summary(query, sentences=2) \n",
    "            speak(\"According to Wikipedia\")\n",
    "            print(results)\n",
    "            speak(results)\n",
    "        #\n",
    "        elif 'open youtube' in query:\n",
    "            speak('Master, do you want to search something perticular on Youtube')\n",
    "            #webbrowser.open(\"youtube.com\")\n",
    "            kit = takeCommand().lower()\n",
    "            print(kit)\n",
    "            if 'yes' in kit:\n",
    "                #url2 = \"youtube.com\"\n",
    "                speak('What would like to search master')\n",
    "                kat = takeCommand().lower()\n",
    "                if 'play' in kat:\n",
    "                    web = r\"C:\\Program Files (x86)\\Google\\Chrome\\Application\\chrome.exe\"\n",
    "                    webbrowser.register(\"chrome\", None, webbrowser.BackgroundBrowser(web))\n",
    "                    webbrowser.get(\"chrome\").open_new('https://www.youtube.com/watch?v=dx4Teh-nv3A')\n",
    "                else:\n",
    "                    # speak('What would like to search master')\n",
    "                    #kat = takeCommand().lower()\n",
    "                    web = r\"C:\\Program Files (x86)\\Google\\Chrome\\Application\\chrome.exe\"\n",
    "                    webbrowser.register(\"chrome\", None, webbrowser.BackgroundBrowser(web))\n",
    "                    webbrowser.get(\"chrome\").open_new('https://www.youtube.com/results?search_query=' + kat)\n",
    "                    #webbrowser.get(\"chrome\").open_new('https://www.youtube.com/watch?v=dx4Teh-nv3A')'''\n",
    "            elif 'no' in kit:\n",
    "                speak('Opening Youtube')\n",
    "                #webbrowser.get()\n",
    "                url1 = \"youtube.com\"\n",
    "                web = r\"C:\\Program Files (x86)\\Google\\Chrome\\Application\\chrome.exe\"\n",
    "                webbrowser.register(\"chrome\", None, webbrowser.BackgroundBrowser(web))\n",
    "                webbrowser.get(\"chrome\").open_new(url1)\n",
    "                #webbrowser.open_new_tab(url1)\n",
    "        elif 'open google' in query:\n",
    "            speak('Master, do you want to search something perticular on Google')\n",
    "            #webbrowser.open(\"youtube.com\")\n",
    "            kot = takeCommand().lower()\n",
    "            print(kot)\n",
    "            if 'yes' in kot:\n",
    "                #url2 = \"youtube.com\"\n",
    "                speak('What would like to search master')\n",
    "                kqt = takeCommand().lower()\n",
    "                web = r\"C:\\Program Files (x86)\\Google\\Chrome\\Application\\chrome.exe\"\n",
    "                webbrowser.register(\"chrome\", None, webbrowser.BackgroundBrowser(web))\n",
    "                webbrowser.get(\"chrome\").open_new('https://www.google.ca/search?q=' + kqt)\n",
    "                #webbrowser.get(\"chrome\").open_new('https://www.youtube.com/watch?v=dx4Teh-nv3A')'''\n",
    "            elif 'no' in kot:\n",
    "                speak('Opening Google')\n",
    "                #webbrowser.get()\n",
    "                url2 = \"google.com\"\n",
    "                web = r\"C:\\Program Files (x86)\\Google\\Chrome\\Application\\chrome.exe\"\n",
    "                webbrowser.register(\"chrome\", None, webbrowser.BackgroundBrowser(web))\n",
    "                webbrowser.get(\"chrome\").open_new(url2)\n",
    "                #webbrowser.open_new_tab(url1)\n",
    "        elif 'play music' in query:\n",
    "            music_dir = 'C:\\Music_Gauransh'\n",
    "            songs = os.listdir(music_dir)\n",
    "            random.shuffle(songs)\n",
    "            speak('Playing Music')\n",
    "            print(songs)    \n",
    "            os.startfile(os.path.join(music_dir, songs[0]))\n",
    "        if 'time' in query:\n",
    "            strTime = datetime.now().strftime(\"%H:%M:%S\")\n",
    "            #current_time = now.strftime(\"%H:%M:%S\")\n",
    "            print(strTime)\n",
    "            speak(\"Master, the time is {}\".format(strTime))"
   ]
  }
 ],
 "metadata": {
  "interpreter": {
   "hash": "6a3d3b929dbd653daa9020336bb239511766b4ebcc06cfe426fb0c9ddeb7aae8"
  },
  "kernelspec": {
   "display_name": "Python 3.9.13 64-bit (windows store)",
   "language": "python",
   "name": "python3"
  },
  "language_info": {
   "codemirror_mode": {
    "name": "ipython",
    "version": 3
   },
   "file_extension": ".py",
   "mimetype": "text/x-python",
   "name": "python",
   "nbconvert_exporter": "python",
   "pygments_lexer": "ipython3",
   "version": "3.9.13"
  },
  "orig_nbformat": 4
 },
 "nbformat": 4,
 "nbformat_minor": 2
}
